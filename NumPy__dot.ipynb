{
  "nbformat": 4,
  "nbformat_minor": 0,
  "metadata": {
    "colab": {
      "name": "NumPy__dot.ipynb",
      "provenance": [],
      "private_outputs": true
    },
    "kernelspec": {
      "name": "python3",
      "display_name": "Python 3"
    },
    "accelerator": "GPU"
  },
  "cells": [
    {
      "cell_type": "markdown",
      "metadata": {
        "id": "yZPiSeJ4Nt18",
        "colab_type": "text"
      },
      "source": [
        "<center><h1><b><i>NumPy: A função dot()</i></b></h1></center>"
      ]
    },
    {
      "cell_type": "markdown",
      "metadata": {
        "id": "OdBwW31uOCDT",
        "colab_type": "text"
      },
      "source": [
        "# **Objetivo**: Fazer o produto matricial entre as matrizes $A_{(m, p)}$ e $B_{(p, n)}$."
      ]
    },
    {
      "cell_type": "markdown",
      "metadata": {
        "id": "huZeI_5WN-uu",
        "colab_type": "text"
      },
      "source": [
        "> Este é um assunto aprendido na Matemática, mas tenho me deparado com esta tarefa de multiplicar matrizes nos meus cursos de Redes Neurais, Deep Learning e Python em geral. Portanto, vamos explicar como as coisas funcionam."
      ]
    },
    {
      "cell_type": "markdown",
      "metadata": {
        "id": "Gr7G_n6bTaJi",
        "colab_type": "text"
      },
      "source": [
        "## **Condição**\n",
        "* Número de colunas da matriz $A$ tem que ser igual ao número de linhas da matriz $B$."
      ]
    },
    {
      "cell_type": "markdown",
      "metadata": {
        "id": "FOK8WrX9S0jr",
        "colab_type": "text"
      },
      "source": [
        "### **Teoria**\n",
        "\n",
        "A teoria matemática para multiplicação de matrizes pode ser encontrada em https://www.somatematica.com.br/emedio/matrizes/matrizes4.php. Lá você vai encontrar o passo a passo para entender a multiplicação de matrizes. Sugiro você consultar a teoria antes de partirmos para a prática usando o Python/NumPy.\n",
        "\n"
      ]
    },
    {
      "cell_type": "markdown",
      "metadata": {
        "id": "cncFfEjkPBpf",
        "colab_type": "text"
      },
      "source": [
        "## Exemplo 1\n",
        "\n",
        "> O exemplo a seguir foi extraído de https://www.somatematica.com.br/emedio/matrizes/matrizes4.php. Considere as matrizes $A_{(2, 2)}= \\begin{bmatrix} 1 & 2 \\\\ 3 & 4 \\end{bmatrix}$ e $B_{(2, 2)}= \\begin{bmatrix} -1 & 3 \\\\ 4 & 2 \\end{bmatrix}$. O produto matricial de $A$ por $B$ é dado por:"
      ]
    },
    {
      "cell_type": "markdown",
      "metadata": {
        "id": "4hkFZN5iQ2LC",
        "colab_type": "text"
      },
      "source": [
        "**[Python**] - Importar o NumPy (Biblioteca para computação científica).\n",
        "\n",
        "* Para quem quiser saber mais sobre o [NumPy](https://numpy.org/)."
      ]
    },
    {
      "cell_type": "code",
      "metadata": {
        "id": "Ah7OkcTlNUAw",
        "colab_type": "code",
        "colab": {}
      },
      "source": [
        "import numpy as np"
      ],
      "execution_count": 0,
      "outputs": []
    },
    {
      "cell_type": "markdown",
      "metadata": {
        "id": "MgIbfK5ORk9_",
        "colab_type": "text"
      },
      "source": [
        "**[Python**] - Definir as matrizes $A_{(2, 2)}= \\begin{bmatrix} 1 & 2 \\\\ 3 & 4 \\end{bmatrix}$ e $B_{(2, 2)}= \\begin{bmatrix} -1 & 3 \\\\ 4 & 2 \\end{bmatrix}$ usando NumPy:"
      ]
    },
    {
      "cell_type": "code",
      "metadata": {
        "id": "3A1k6syMN7PS",
        "colab_type": "code",
        "colab": {}
      },
      "source": [
        "A= np.array([[1, 2], [3, 4]])\n",
        "A"
      ],
      "execution_count": 0,
      "outputs": []
    },
    {
      "cell_type": "code",
      "metadata": {
        "id": "7yWpeV1jSO4R",
        "colab_type": "code",
        "colab": {}
      },
      "source": [
        "B= np.array([[-1, 3], [4, 2]])\n",
        "B"
      ],
      "execution_count": 0,
      "outputs": []
    },
    {
      "cell_type": "markdown",
      "metadata": {
        "id": "avLxnPUUSXbL",
        "colab_type": "text"
      },
      "source": [
        "**[Python**] - Produto matricial entre $A$ e $B$ usando a função dot():"
      ]
    },
    {
      "cell_type": "code",
      "metadata": {
        "id": "LEeBu777ShGr",
        "colab_type": "code",
        "colab": {}
      },
      "source": [
        "A.dot(B)"
      ],
      "execution_count": 0,
      "outputs": []
    },
    {
      "cell_type": "markdown",
      "metadata": {
        "id": "wDpHYug9SJfr",
        "colab_type": "text"
      },
      "source": [
        "## Exemplo 2\n",
        "\n",
        "> O exemplo a seguir foi extraído de https://www.somatematica.com.br/emedio/matrizes/matrizes4.php. Considere as matrizes $A_{(3, 2)}= \\begin{bmatrix} 2 & 3 \\\\ 0 & 1 \\\\ -1 & 4 \\end{bmatrix}$ e $B_{(2, 3)}= \\begin{bmatrix} 1 & 2 & 3 \\\\ -2 & 0 & 4 \\end{bmatrix}$. O produto matricial de $A$ por $B$ é dado por:"
      ]
    },
    {
      "cell_type": "markdown",
      "metadata": {
        "colab_type": "text",
        "id": "c2VVtbDRUekg"
      },
      "source": [
        "**[Python**] - Importar o NumPy (Biblioteca para computação científica).\n",
        "\n",
        "* Para quem quiser saber mais sobre o [NumPy](https://numpy.org/)."
      ]
    },
    {
      "cell_type": "code",
      "metadata": {
        "colab_type": "code",
        "id": "VljOLDKxUekn",
        "colab": {}
      },
      "source": [
        "import numpy as np"
      ],
      "execution_count": 0,
      "outputs": []
    },
    {
      "cell_type": "markdown",
      "metadata": {
        "colab_type": "text",
        "id": "fBAjsKvGUelA"
      },
      "source": [
        "**[Python**] - Definir as matrizes $A_{(3, 2)}= \\begin{bmatrix} 2 & 3 \\\\ 0 & 1 \\\\ -1 & 4 \\end{bmatrix}$ e $B_{(2, 3)}= \\begin{bmatrix} 1 & 2 & 3 \\\\ -2 & 0 & 4 \\end{bmatrix}$ usando NumPy:"
      ]
    },
    {
      "cell_type": "code",
      "metadata": {
        "colab_type": "code",
        "id": "QSbE8OoPUelC",
        "colab": {}
      },
      "source": [
        "A= np.array([[2, 3], [0, 1], [-1, 4]])\n",
        "A"
      ],
      "execution_count": 0,
      "outputs": []
    },
    {
      "cell_type": "code",
      "metadata": {
        "colab_type": "code",
        "id": "lR92APP1UelN",
        "colab": {}
      },
      "source": [
        "B= np.array([[1, 2, 3], [-2, 0, 4]])\n",
        "B"
      ],
      "execution_count": 0,
      "outputs": []
    },
    {
      "cell_type": "markdown",
      "metadata": {
        "colab_type": "text",
        "id": "U_MCYNL7UelU"
      },
      "source": [
        "**[Python**] - Produto matricial entre $A$ e $B$ usando a função dot():"
      ]
    },
    {
      "cell_type": "code",
      "metadata": {
        "colab_type": "code",
        "id": "3wpUO04aUelY",
        "colab": {}
      },
      "source": [
        "A.dot(B)"
      ],
      "execution_count": 0,
      "outputs": []
    },
    {
      "cell_type": "code",
      "metadata": {
        "id": "OCrr9E5LU8lX",
        "colab_type": "code",
        "colab": {}
      },
      "source": [
        ""
      ],
      "execution_count": 0,
      "outputs": []
    }
  ]
}
